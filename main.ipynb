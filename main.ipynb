{
 "cells": [
  {
   "cell_type": "code",
   "execution_count": 2,
   "id": "273a9e37",
   "metadata": {},
   "outputs": [],
   "source": [
    "import pandas as pd \n",
    "import yfinance as yf\n",
    "from datetime import datetime, timedelta\n",
    "import numpy as np\n",
    "from scipy.optimize import minimize"
   ]
  },
  {
   "cell_type": "markdown",
   "id": "5b375c91",
   "metadata": {},
   "source": [
    "# Define tickers and time range"
   ]
  },
  {
   "cell_type": "code",
   "execution_count": 8,
   "id": "fb0f537c",
   "metadata": {},
   "outputs": [],
   "source": [
    "tickers = ['SPY', 'BND', 'GLD', 'QQQ', 'VTI']\n"
   ]
  },
  {
   "cell_type": "code",
   "execution_count": 30,
   "id": "dcda0621",
   "metadata": {},
   "outputs": [],
   "source": [
    "years = 10\n",
    "end_date = datetime.today()\n",
    "start_date = end_date - timedelta(days= years*365) "
   ]
  },
  {
   "cell_type": "markdown",
   "id": "8779d5b2",
   "metadata": {},
   "source": [
    "# Download data from yahoo finance"
   ]
  },
  {
   "cell_type": "code",
   "execution_count": 31,
   "id": "82548d83",
   "metadata": {},
   "outputs": [
    {
     "name": "stderr",
     "output_type": "stream",
     "text": [
      "[*********************100%***********************]  1 of 1 completed\n",
      "[*********************100%***********************]  1 of 1 completed\n",
      "[*********************100%***********************]  1 of 1 completed\n",
      "[*********************100%***********************]  1 of 1 completed\n",
      "[*********************100%***********************]  1 of 1 completed\n"
     ]
    }
   ],
   "source": [
    "close_df = pd.DataFrame()\n",
    "\n",
    "for ticker in tickers:\n",
    "    data = yf.download(ticker, start=start_date, end=end_date)\n",
    "    close_df[ticker] = data['Close']\n",
    " "
   ]
  },
  {
   "cell_type": "markdown",
   "id": "49449f47",
   "metadata": {},
   "source": [
    "# Display the Tickers dataframe"
   ]
  },
  {
   "cell_type": "code",
   "execution_count": 32,
   "id": "158b70e6",
   "metadata": {},
   "outputs": [
    {
     "name": "stdout",
     "output_type": "stream",
     "text": [
      "                   SPY        BND         GLD         QQQ         VTI\n",
      "Date                                                                 \n",
      "2015-05-01  177.294159  62.580376  113.080002  101.001091   91.783157\n",
      "2015-05-04  177.799026  62.489315  114.099998  101.167816   92.103455\n",
      "2015-05-05  175.762878  62.390705  114.419998   99.519142   91.007759\n",
      "2015-05-06  175.039383  62.216263  114.360001   98.833786   90.754906\n",
      "2015-05-07  175.737686  62.345181  113.419998   99.426575   91.100471\n",
      "...                ...        ...         ...         ...         ...\n",
      "2025-04-21  513.880005  72.250000  315.589996  433.109985  252.600006\n",
      "2025-04-22  527.250000  72.379997  311.109985  444.480011  259.029999\n",
      "2025-04-23  535.419983  72.529999  303.649994  454.559998  263.440002\n",
      "2025-04-24  546.690002  72.940002  308.070007  467.350006  268.989990\n",
      "2025-04-25  550.640015  73.180000  304.730011  472.559998  270.640015\n",
      "\n",
      "[2512 rows x 5 columns]\n"
     ]
    }
   ],
   "source": [
    "print(close_df)"
   ]
  },
  {
   "cell_type": "markdown",
   "id": "f84d72ca",
   "metadata": {},
   "source": [
    "# Calculate log normal returns"
   ]
  },
  {
   "cell_type": "code",
   "execution_count": 33,
   "id": "6d72d043",
   "metadata": {},
   "outputs": [],
   "source": [
    "log_returns = np.log(close_df/close_df.shift(1))\n",
    "log_returns = log_returns.dropna()"
   ]
  },
  {
   "cell_type": "markdown",
   "id": "2351f5c2",
   "metadata": {},
   "source": [
    "# Calculate covariance matrix"
   ]
  },
  {
   "cell_type": "code",
   "execution_count": 34,
   "id": "8ba21a52",
   "metadata": {},
   "outputs": [
    {
     "name": "stdout",
     "output_type": "stream",
     "text": [
      "          SPY       BND       GLD       QQQ       VTI\n",
      "SPY  0.033557  0.001161  0.001524  0.038674  0.034059\n",
      "BND  0.001161  0.003030  0.002708  0.001455  0.001250\n",
      "GLD  0.001524  0.002708  0.020227  0.002180  0.001634\n",
      "QQQ  0.038674  0.001455  0.002180  0.051114  0.039192\n",
      "VTI  0.034059  0.001250  0.001634  0.039192  0.034838\n"
     ]
    }
   ],
   "source": [
    "cov_matrix = log_returns.cov() * 252\n",
    "print(cov_matrix)"
   ]
  },
  {
   "cell_type": "markdown",
   "id": "18678e0c",
   "metadata": {},
   "source": [
    "# Define Portfolio Metrics"
   ]
  },
  {
   "cell_type": "code",
   "execution_count": 35,
   "id": "8456662d",
   "metadata": {},
   "outputs": [],
   "source": [
    "def standard_deviation(weights, cov_matrix):\n",
    "    variance = weights.T @ cov_matrix @ weights\n",
    "    return np.sqrt(variance)\n",
    "\n",
    "def expected_return(weights, log_returns):\n",
    "    return np.sum(log_returns.mean()*weights)*252\n",
    "\n",
    "def sharpe_ratio(weights, log_returns, cov_matrix, risk_free_rate):\n",
    "    return (expected_return(weights, log_returns) - risk_free_rate) / standard_deviation(weights, cov_matrix)"
   ]
  },
  {
   "cell_type": "markdown",
   "id": "e20dfa16",
   "metadata": {},
   "source": [
    "# Set risk free rate"
   ]
  },
  {
   "cell_type": "code",
   "execution_count": 17,
   "id": "6aeca1aa",
   "metadata": {},
   "outputs": [],
   "source": [
    "risk_free_rate = 0.02"
   ]
  },
  {
   "cell_type": "markdown",
   "id": "9280bfbe",
   "metadata": {},
   "source": [
    "# Define function to minimize negative Sharpe Ratio\n",
    "This is because scipy doesn't have a maximize function"
   ]
  },
  {
   "cell_type": "code",
   "execution_count": 18,
   "id": "c86ef165",
   "metadata": {},
   "outputs": [],
   "source": [
    "def neg_sharpe_ratio(weights, log_returns, cov_matrix, risk_free_rate):\n",
    "    return -sharpe_ratio(weights, log_returns, cov_matrix, risk_free_rate)"
   ]
  },
  {
   "cell_type": "markdown",
   "id": "498a5fcc",
   "metadata": {},
   "source": [
    "# Set constraints and bounds\n",
    "The constraints variable is a dict with 2 keys: 'type' and 'fun'. 'type' is set to 'eq', which means equality constraint, and 'fun' is assigned the function check_sum, which checks if the sum of the portfolio weights equals to 1"
   ]
  },
  {
   "cell_type": "code",
   "execution_count": 36,
   "id": "4d80209c",
   "metadata": {},
   "outputs": [],
   "source": [
    "constraints = {'type': 'eq', 'fun': lambda weights: np.sum(weights) - 1}\n",
    "bounds = [(0, 0.3) for _ in range(len(tickers))]"
   ]
  },
  {
   "cell_type": "markdown",
   "id": "3513dd83",
   "metadata": {},
   "source": [
    "# Set initial weights "
   ]
  },
  {
   "cell_type": "code",
   "execution_count": 37,
   "id": "ccab950c",
   "metadata": {},
   "outputs": [
    {
     "name": "stdout",
     "output_type": "stream",
     "text": [
      "[0.2 0.2 0.2 0.2 0.2]\n"
     ]
    }
   ],
   "source": [
    "initial_weights = np.array([1/len(tickers)]*len(tickers))\n",
    "print(initial_weights)"
   ]
  },
  {
   "cell_type": "markdown",
   "id": "a2bc67af",
   "metadata": {},
   "source": [
    "# Optimize the weights to maximize sharpe ratio\n",
    "'SLSQP' stands for Sequential Least Squares Quadratic Programming, which is suitable for solving nonlinear optimization problems with constraints"
   ]
  },
  {
   "cell_type": "code",
   "execution_count": 38,
   "id": "2a5a7096",
   "metadata": {},
   "outputs": [
    {
     "name": "stdout",
     "output_type": "stream",
     "text": [
      "Optimial Weights:\n",
      "SPY: 0.16\n",
      "BND: 0.24\n",
      "GLD: 0.30\n",
      "QQQ: 0.30\n",
      "VTI: 0.00\n",
      "\n",
      "Expected Annual Return: 0.10\n",
      "Expected Volatility: 0.11\n",
      "Sharpe Ratio: 0.7030\n"
     ]
    }
   ],
   "source": [
    "optimized_results = minimize(neg_sharpe_ratio, initial_weights, args=(log_returns, cov_matrix, risk_free_rate), method='SLSQP', constraints=constraints, bounds=bounds)\n",
    "\n",
    "optimal_weights = optimized_results.x\n",
    "\n",
    "print('Optimial Weights:')\n",
    "for ticker, weight in zip(tickers, optimal_weights):\n",
    "    print(f'{ticker}: {weight:.2f}')\n",
    "\n",
    "print()\n",
    "\n",
    "optimal_portfolio_return = expected_return(optimal_weights, log_returns)\n",
    "optimal_portfolio_volatility = standard_deviation(optimal_weights, cov_matrix)\n",
    "optimal_sharpe_ratio = sharpe_ratio(optimal_weights, log_returns, cov_matrix, risk_free_rate)\n",
    "\n",
    "print(f'Expected Annual Return: {optimal_portfolio_return:.2f}')\n",
    "print(f'Expected Volatility: {optimal_portfolio_volatility:.2f}')\n",
    "print(f'Sharpe Ratio: {optimal_sharpe_ratio:.4f}')\n"
   ]
  },
  {
   "cell_type": "markdown",
   "id": "7b6f787e",
   "metadata": {},
   "source": [
    "# Plot the portfolio"
   ]
  },
  {
   "cell_type": "code",
   "execution_count": 39,
   "id": "ac230be5",
   "metadata": {},
   "outputs": [
    {
     "data": {
      "image/png": "[encoded data removed]",
      "text/plain": [
       "<Figure size 1000x600 with 1 Axes>"
      ]
     },
     "metadata": {},
     "output_type": "display_data"
    }
   ],
   "source": [
    "import matplotlib.pyplot as plt\n",
    "\n",
    "plt.figure(figsize=(10,6))\n",
    "plt.bar(tickers, optimal_weights)\n",
    "\n",
    "plt.xlabel('Assets')\n",
    "plt.ylabel('Optimal Weights')\n",
    "plt.title('Optimal Portfolio Weights')\n",
    "\n",
    "plt.show()"
   ]
  }
 ],
 "metadata": {
  "kernelspec": {
   "display_name": "venv",
   "language": "python",
   "name": "python3"
  },
  "language_info": {
   "codemirror_mode": {
    "name": "ipython",
    "version": 3
   },
   "file_extension": ".py",
   "mimetype": "text/x-python",
   "name": "python",
   "nbconvert_exporter": "python",
   "pygments_lexer": "ipython3",
   "version": "3.12.8"
  }
 },
 "nbformat": 4,
 "nbformat_minor": 5
}
